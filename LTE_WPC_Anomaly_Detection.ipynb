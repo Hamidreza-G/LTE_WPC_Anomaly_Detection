{
 "cells": [
  {
   "cell_type": "markdown",
   "id": "ce2b6264",
   "metadata": {},
   "source": [
    "## Finding LTE Worst Performing Cells/Sectors using Anomaly Detection"
   ]
  },
  {
   "cell_type": "code",
   "execution_count": 1,
   "id": "5012bc45",
   "metadata": {},
   "outputs": [],
   "source": [
    "import numpy as np\n",
    "import pandas as pd\n",
    "from numpy import pi, sin, cos\n",
    "import plotly.graph_objs as go\n",
    "import plotly.express as px\n",
    "import math\n",
    "import matplotlib.pyplot as plt\n",
    "from sklearn import model_selection\n",
    "import seaborn as sns\n",
    "from sklearn import ensemble\n",
    "from sklearn import svm\n",
    "from sklearn import linear_model\n",
    "import warnings\n",
    "warnings.filterwarnings('ignore')\n",
    "from sklearn.ensemble import IsolationForest"
   ]
  },
  {
   "cell_type": "markdown",
   "id": "4c84f051",
   "metadata": {},
   "source": [
    "### Reading a selection of LTE busy hour sector level KPI's\n",
    "- KPI's of all LTE cells (including all carriers on the same and different bands) of a sector are aggregated to make the sector level KPI's"
   ]
  },
  {
   "cell_type": "code",
   "execution_count": 2,
   "id": "2344b4f4",
   "metadata": {
    "scrolled": true
   },
   "outputs": [
    {
     "data": {
      "text/html": [
       "<div>\n",
       "<style scoped>\n",
       "    .dataframe tbody tr th:only-of-type {\n",
       "        vertical-align: middle;\n",
       "    }\n",
       "\n",
       "    .dataframe tbody tr th {\n",
       "        vertical-align: top;\n",
       "    }\n",
       "\n",
       "    .dataframe thead th {\n",
       "        text-align: right;\n",
       "    }\n",
       "</style>\n",
       "<table border=\"1\" class=\"dataframe\">\n",
       "  <thead>\n",
       "    <tr style=\"text-align: right;\">\n",
       "      <th></th>\n",
       "      <th>Datetime</th>\n",
       "      <th>SECTOR</th>\n",
       "      <th>Province</th>\n",
       "      <th>Vendor</th>\n",
       "      <th>Total_Payload_GB</th>\n",
       "      <th>Total_DL_Payload(GB)</th>\n",
       "      <th>UserThroughput</th>\n",
       "      <th>DL_Spectral_efficiency</th>\n",
       "      <th>Average_Reported_CQI</th>\n",
       "      <th>DL_PRB_UTILIZATION</th>\n",
       "      <th>Sector_Bandwidth(MHz)</th>\n",
       "      <th>cell_availability_include_manual_blocking</th>\n",
       "      <th>ConnectedUser</th>\n",
       "    </tr>\n",
       "  </thead>\n",
       "  <tbody>\n",
       "    <tr>\n",
       "      <th>0</th>\n",
       "      <td>2022-12-13 17:00:00</td>\n",
       "      <td>QM0145C</td>\n",
       "      <td>QM</td>\n",
       "      <td>Huawei</td>\n",
       "      <td>0.159</td>\n",
       "      <td>0.142</td>\n",
       "      <td>87.215</td>\n",
       "      <td>1.221</td>\n",
       "      <td>13.183</td>\n",
       "      <td>1.441</td>\n",
       "      <td>20.0</td>\n",
       "      <td>100.0</td>\n",
       "      <td>3.975</td>\n",
       "    </tr>\n",
       "    <tr>\n",
       "      <th>1</th>\n",
       "      <td>2022-12-13 21:00:00</td>\n",
       "      <td>QN0088C</td>\n",
       "      <td>QN</td>\n",
       "      <td>Huawei</td>\n",
       "      <td>12.126</td>\n",
       "      <td>10.923</td>\n",
       "      <td>13.131</td>\n",
       "      <td>1.284</td>\n",
       "      <td>10.122</td>\n",
       "      <td>35.002</td>\n",
       "      <td>60.0</td>\n",
       "      <td>100.0</td>\n",
       "      <td>114.181</td>\n",
       "    </tr>\n",
       "    <tr>\n",
       "      <th>2</th>\n",
       "      <td>2022-12-13 21:00:00</td>\n",
       "      <td>QN0154A</td>\n",
       "      <td>QN</td>\n",
       "      <td>Huawei</td>\n",
       "      <td>7.300</td>\n",
       "      <td>6.702</td>\n",
       "      <td>28.580</td>\n",
       "      <td>2.508</td>\n",
       "      <td>11.050</td>\n",
       "      <td>32.986</td>\n",
       "      <td>20.0</td>\n",
       "      <td>100.0</td>\n",
       "      <td>51.811</td>\n",
       "    </tr>\n",
       "  </tbody>\n",
       "</table>\n",
       "</div>"
      ],
      "text/plain": [
       "             Datetime   SECTOR Province  Vendor  Total_Payload_GB  \\\n",
       "0 2022-12-13 17:00:00  QM0145C       QM  Huawei             0.159   \n",
       "1 2022-12-13 21:00:00  QN0088C       QN  Huawei            12.126   \n",
       "2 2022-12-13 21:00:00  QN0154A       QN  Huawei             7.300   \n",
       "\n",
       "   Total_DL_Payload(GB)  UserThroughput  DL_Spectral_efficiency  \\\n",
       "0                 0.142          87.215                   1.221   \n",
       "1                10.923          13.131                   1.284   \n",
       "2                 6.702          28.580                   2.508   \n",
       "\n",
       "   Average_Reported_CQI  DL_PRB_UTILIZATION  Sector_Bandwidth(MHz)  \\\n",
       "0                13.183               1.441                   20.0   \n",
       "1                10.122              35.002                   60.0   \n",
       "2                11.050              32.986                   20.0   \n",
       "\n",
       "   cell_availability_include_manual_blocking  ConnectedUser  \n",
       "0                                      100.0          3.975  \n",
       "1                                      100.0        114.181  \n",
       "2                                      100.0         51.811  "
      ]
     },
     "execution_count": 2,
     "metadata": {},
     "output_type": "execute_result"
    }
   ],
   "source": [
    "KPI_df = pd.read_csv(\"LTE_BH_Sector_KPI.csv\", parse_dates=[\"Datetime\"])\n",
    "KPI_df.head(3)"
   ]
  },
  {
   "cell_type": "code",
   "execution_count": 3,
   "id": "8133b755",
   "metadata": {
    "scrolled": false
   },
   "outputs": [
    {
     "name": "stdout",
     "output_type": "stream",
     "text": [
      "<class 'pandas.core.frame.DataFrame'>\n",
      "RangeIndex: 383755 entries, 0 to 383754\n",
      "Data columns (total 13 columns):\n",
      " #   Column                                     Non-Null Count   Dtype         \n",
      "---  ------                                     --------------   -----         \n",
      " 0   Datetime                                   383755 non-null  datetime64[ns]\n",
      " 1   SECTOR                                     383755 non-null  object        \n",
      " 2   Province                                   383755 non-null  object        \n",
      " 3   Vendor                                     383755 non-null  object        \n",
      " 4   Total_Payload_GB                           383683 non-null  float64       \n",
      " 5   Total_DL_Payload(GB)                       383683 non-null  float64       \n",
      " 6   UserThroughput                             383340 non-null  float64       \n",
      " 7   DL_Spectral_efficiency                     383586 non-null  float64       \n",
      " 8   Average_Reported_CQI                       383619 non-null  float64       \n",
      " 9   DL_PRB_UTILIZATION                         383598 non-null  float64       \n",
      " 10  Sector_Bandwidth(MHz)                      383530 non-null  float64       \n",
      " 11  cell_availability_include_manual_blocking  383608 non-null  float64       \n",
      " 12  ConnectedUser                              383755 non-null  float64       \n",
      "dtypes: datetime64[ns](1), float64(9), object(3)\n",
      "memory usage: 38.1+ MB\n"
     ]
    }
   ],
   "source": [
    "KPI_df.info()"
   ]
  },
  {
   "cell_type": "code",
   "execution_count": 4,
   "id": "72966328",
   "metadata": {},
   "outputs": [
    {
     "data": {
      "text/html": [
       "<div>\n",
       "<style scoped>\n",
       "    .dataframe tbody tr th:only-of-type {\n",
       "        vertical-align: middle;\n",
       "    }\n",
       "\n",
       "    .dataframe tbody tr th {\n",
       "        vertical-align: top;\n",
       "    }\n",
       "\n",
       "    .dataframe thead th {\n",
       "        text-align: right;\n",
       "    }\n",
       "</style>\n",
       "<table border=\"1\" class=\"dataframe\">\n",
       "  <thead>\n",
       "    <tr style=\"text-align: right;\">\n",
       "      <th></th>\n",
       "      <th>SECTOR</th>\n",
       "    </tr>\n",
       "    <tr>\n",
       "      <th>Vendor</th>\n",
       "      <th></th>\n",
       "    </tr>\n",
       "  </thead>\n",
       "  <tbody>\n",
       "    <tr>\n",
       "      <th>Ericsson</th>\n",
       "      <td>14033</td>\n",
       "    </tr>\n",
       "    <tr>\n",
       "      <th>Huawei</th>\n",
       "      <td>26082</td>\n",
       "    </tr>\n",
       "    <tr>\n",
       "      <th>Nokia</th>\n",
       "      <td>16370</td>\n",
       "    </tr>\n",
       "    <tr>\n",
       "      <th>Grand Total</th>\n",
       "      <td>56485</td>\n",
       "    </tr>\n",
       "  </tbody>\n",
       "</table>\n",
       "</div>"
      ],
      "text/plain": [
       "             SECTOR\n",
       "Vendor             \n",
       "Ericsson      14033\n",
       "Huawei        26082\n",
       "Nokia         16370\n",
       "Grand Total   56485"
      ]
     },
     "execution_count": 4,
     "metadata": {},
     "output_type": "execute_result"
    }
   ],
   "source": [
    "# LTE Network Dimensions\n",
    "df = KPI_df.drop_duplicates(subset=['SECTOR'])\n",
    "df_summary = df[['Vendor','SECTOR']].groupby(by=['Vendor']).count()\n",
    "df_summary.loc['Grand Total'] = df_summary.sum()\n",
    "df_summary"
   ]
  },
  {
   "cell_type": "markdown",
   "id": "ab6792d1",
   "metadata": {},
   "source": [
    "### Data Cleaning"
   ]
  },
  {
   "cell_type": "markdown",
   "id": "a9503994",
   "metadata": {},
   "source": [
    "##### Droping rows with null"
   ]
  },
  {
   "cell_type": "code",
   "execution_count": 5,
   "id": "86d588fd",
   "metadata": {},
   "outputs": [],
   "source": [
    "KPI_df.dropna(inplace=True)"
   ]
  },
  {
   "cell_type": "code",
   "execution_count": 6,
   "id": "2b21346f",
   "metadata": {},
   "outputs": [
    {
     "name": "stdout",
     "output_type": "stream",
     "text": [
      "<class 'pandas.core.frame.DataFrame'>\n",
      "Int64Index: 383174 entries, 0 to 383754\n",
      "Data columns (total 13 columns):\n",
      " #   Column                                     Non-Null Count   Dtype         \n",
      "---  ------                                     --------------   -----         \n",
      " 0   Datetime                                   383174 non-null  datetime64[ns]\n",
      " 1   SECTOR                                     383174 non-null  object        \n",
      " 2   Province                                   383174 non-null  object        \n",
      " 3   Vendor                                     383174 non-null  object        \n",
      " 4   Total_Payload_GB                           383174 non-null  float64       \n",
      " 5   Total_DL_Payload(GB)                       383174 non-null  float64       \n",
      " 6   UserThroughput                             383174 non-null  float64       \n",
      " 7   DL_Spectral_efficiency                     383174 non-null  float64       \n",
      " 8   Average_Reported_CQI                       383174 non-null  float64       \n",
      " 9   DL_PRB_UTILIZATION                         383174 non-null  float64       \n",
      " 10  Sector_Bandwidth(MHz)                      383174 non-null  float64       \n",
      " 11  cell_availability_include_manual_blocking  383174 non-null  float64       \n",
      " 12  ConnectedUser                              383174 non-null  float64       \n",
      "dtypes: datetime64[ns](1), float64(9), object(3)\n",
      "memory usage: 40.9+ MB\n"
     ]
    }
   ],
   "source": [
    "KPI_df.info()"
   ]
  },
  {
   "cell_type": "markdown",
   "id": "51eee744",
   "metadata": {},
   "source": [
    "##### Dropping sectors with unreliable data"
   ]
  },
  {
   "cell_type": "code",
   "execution_count": 7,
   "id": "106e5514",
   "metadata": {},
   "outputs": [],
   "source": [
    "drop_index = KPI_df[(KPI_df['cell_availability_include_manual_blocking'] < 99) | \n",
    "                      (KPI_df['Total_DL_Payload(GB)'] == 0) | \n",
    "                      ((KPI_df['SECTOR'].str.len()) <= 6) | \n",
    "                      (KPI_df['Sector_Bandwidth(MHz)'] == 0) |\n",
    "                      (KPI_df['UserThroughput'] == 0) \n",
    "                     ].index\n",
    "KPI_df.drop(drop_index , inplace=True)"
   ]
  },
  {
   "cell_type": "code",
   "execution_count": 8,
   "id": "c6f660de",
   "metadata": {},
   "outputs": [
    {
     "data": {
      "text/plain": [
       "(377038, 13)"
      ]
     },
     "execution_count": 8,
     "metadata": {},
     "output_type": "execute_result"
    }
   ],
   "source": [
    "KPI_df.shape"
   ]
  },
  {
   "cell_type": "markdown",
   "id": "56014a68",
   "metadata": {},
   "source": [
    "### Feature Engineering"
   ]
  },
  {
   "cell_type": "code",
   "execution_count": 9,
   "id": "e7d71823",
   "metadata": {},
   "outputs": [],
   "source": [
    "# PPM (Payload Per MHz)\n",
    "KPI_df['PPM'] = KPI_df['Total_DL_Payload(GB)'] / KPI_df['Sector_Bandwidth(MHz)']"
   ]
  },
  {
   "cell_type": "code",
   "execution_count": 10,
   "id": "18dcb0e4",
   "metadata": {},
   "outputs": [],
   "source": [
    "# UPM (User Per MHz)\n",
    "KPI_df['UPM'] = KPI_df['ConnectedUser'] / KPI_df['Sector_Bandwidth(MHz)']"
   ]
  },
  {
   "cell_type": "code",
   "execution_count": 11,
   "id": "d3a1e150",
   "metadata": {},
   "outputs": [],
   "source": [
    "# Creating name of the day\n",
    "KPI_df['Day'] = KPI_df['Datetime'].dt.day_name()\n",
    "# creating hour\n",
    "KPI_df['Hour'] = KPI_df['Datetime'].dt.hour"
   ]
  },
  {
   "cell_type": "code",
   "execution_count": 12,
   "id": "e107df51",
   "metadata": {},
   "outputs": [],
   "source": [
    "# Droping weekend days\n",
    "drop_index = KPI_df[(KPI_df['Day'] == \"Thursday\") | \n",
    "                      (KPI_df['Day'] == \"Friday\") \n",
    "                     ].index\n",
    "KPI_df.drop(drop_index , inplace=True)"
   ]
  },
  {
   "cell_type": "code",
   "execution_count": 13,
   "id": "30506f0e",
   "metadata": {},
   "outputs": [
    {
     "data": {
      "text/plain": [
       "(268604, 17)"
      ]
     },
     "execution_count": 13,
     "metadata": {},
     "output_type": "execute_result"
    }
   ],
   "source": [
    "KPI_df.shape"
   ]
  },
  {
   "cell_type": "markdown",
   "id": "029eeee6",
   "metadata": {},
   "source": [
    "### EDA"
   ]
  },
  {
   "cell_type": "code",
   "execution_count": 14,
   "id": "2f493ba9",
   "metadata": {},
   "outputs": [],
   "source": [
    "coverage_df = pd.read_excel(\"Coverage_Type.xlsx\")"
   ]
  },
  {
   "cell_type": "code",
   "execution_count": 15,
   "id": "feee1b4c",
   "metadata": {
    "scrolled": false
   },
   "outputs": [
    {
     "data": {
      "text/html": [
       "<div>\n",
       "<style scoped>\n",
       "    .dataframe tbody tr th:only-of-type {\n",
       "        vertical-align: middle;\n",
       "    }\n",
       "\n",
       "    .dataframe tbody tr th {\n",
       "        vertical-align: top;\n",
       "    }\n",
       "\n",
       "    .dataframe thead th {\n",
       "        text-align: right;\n",
       "    }\n",
       "</style>\n",
       "<table border=\"1\" class=\"dataframe\">\n",
       "  <thead>\n",
       "    <tr style=\"text-align: right;\">\n",
       "      <th></th>\n",
       "      <th>Sector_ID</th>\n",
       "      <th>Latitude</th>\n",
       "      <th>Longitude</th>\n",
       "      <th>Azimuth</th>\n",
       "      <th>TA</th>\n",
       "      <th>Target</th>\n",
       "      <th>Popu_Type</th>\n",
       "    </tr>\n",
       "  </thead>\n",
       "  <tbody>\n",
       "    <tr>\n",
       "      <th>0</th>\n",
       "      <td>AG0001A</td>\n",
       "      <td>37.531260</td>\n",
       "      <td>45.031880</td>\n",
       "      <td>85</td>\n",
       "      <td>0.566389</td>\n",
       "      <td>1</td>\n",
       "      <td>Semi-Residential</td>\n",
       "    </tr>\n",
       "    <tr>\n",
       "      <th>1</th>\n",
       "      <td>AG0001B</td>\n",
       "      <td>37.531260</td>\n",
       "      <td>45.031880</td>\n",
       "      <td>190</td>\n",
       "      <td>0.654871</td>\n",
       "      <td>1</td>\n",
       "      <td>Semi-Commercial</td>\n",
       "    </tr>\n",
       "    <tr>\n",
       "      <th>2</th>\n",
       "      <td>AG0001C</td>\n",
       "      <td>37.531260</td>\n",
       "      <td>45.031880</td>\n",
       "      <td>300</td>\n",
       "      <td>0.703661</td>\n",
       "      <td>1</td>\n",
       "      <td>Semi-Residential</td>\n",
       "    </tr>\n",
       "    <tr>\n",
       "      <th>3</th>\n",
       "      <td>AG0002C</td>\n",
       "      <td>37.554125</td>\n",
       "      <td>45.085994</td>\n",
       "      <td>334</td>\n",
       "      <td>0.440847</td>\n",
       "      <td>1</td>\n",
       "      <td>Semi-Residential</td>\n",
       "    </tr>\n",
       "    <tr>\n",
       "      <th>4</th>\n",
       "      <td>AG0002B</td>\n",
       "      <td>37.554125</td>\n",
       "      <td>45.085994</td>\n",
       "      <td>240</td>\n",
       "      <td>0.485209</td>\n",
       "      <td>1</td>\n",
       "      <td>Semi-Commercial</td>\n",
       "    </tr>\n",
       "  </tbody>\n",
       "</table>\n",
       "</div>"
      ],
      "text/plain": [
       "  Sector_ID   Latitude  Longitude  Azimuth        TA  Target         Popu_Type\n",
       "0   AG0001A  37.531260  45.031880       85  0.566389       1  Semi-Residential\n",
       "1   AG0001B  37.531260  45.031880      190  0.654871       1   Semi-Commercial\n",
       "2   AG0001C  37.531260  45.031880      300  0.703661       1  Semi-Residential\n",
       "3   AG0002C  37.554125  45.085994      334  0.440847       1  Semi-Residential\n",
       "4   AG0002B  37.554125  45.085994      240  0.485209       1   Semi-Commercial"
      ]
     },
     "execution_count": 15,
     "metadata": {},
     "output_type": "execute_result"
    }
   ],
   "source": [
    "coverage_df.head()"
   ]
  },
  {
   "cell_type": "code",
   "execution_count": 16,
   "id": "9807d4ca",
   "metadata": {},
   "outputs": [],
   "source": [
    "cells_df = KPI_df.drop_duplicates(subset=['SECTOR'])"
   ]
  },
  {
   "cell_type": "code",
   "execution_count": 17,
   "id": "5b7b48a9",
   "metadata": {},
   "outputs": [
    {
     "data": {
      "text/plain": [
       "(56342, 17)"
      ]
     },
     "execution_count": 17,
     "metadata": {},
     "output_type": "execute_result"
    }
   ],
   "source": [
    "cells_df.shape"
   ]
  },
  {
   "cell_type": "code",
   "execution_count": 18,
   "id": "3b592793",
   "metadata": {},
   "outputs": [],
   "source": [
    "cells_df = pd.merge(coverage_df, cells_df, how='left', left_on='Sector_ID', right_on='SECTOR')"
   ]
  },
  {
   "cell_type": "code",
   "execution_count": 19,
   "id": "19be2c4e",
   "metadata": {},
   "outputs": [
    {
     "data": {
      "text/plain": [
       "(76865, 24)"
      ]
     },
     "execution_count": 19,
     "metadata": {},
     "output_type": "execute_result"
    }
   ],
   "source": [
    "cells_df.shape"
   ]
  },
  {
   "cell_type": "code",
   "execution_count": 20,
   "id": "05bc5491",
   "metadata": {},
   "outputs": [
    {
     "data": {
      "text/plain": [
       "(54224, 23)"
      ]
     },
     "execution_count": 20,
     "metadata": {},
     "output_type": "execute_result"
    }
   ],
   "source": [
    "cells_df.dropna(inplace=True)\n",
    "cells_df.drop(columns='SECTOR', index=1, inplace=True)\n",
    "cells_df.reset_index(inplace=True, drop=True)\n",
    "cells_df.shape"
   ]
  },
  {
   "cell_type": "code",
   "execution_count": 21,
   "id": "0091bc19",
   "metadata": {},
   "outputs": [],
   "source": [
    "Labels = {0 : \"Umbrella\",\n",
    "          1 : \"City Capacity\",\n",
    "          2 : \"Rural\",\n",
    "          3 : \"City Coverage\"}\n",
    "\n",
    "cells_df[\"Label\"] = cells_df[\"Target\"].map(Labels)"
   ]
  },
  {
   "cell_type": "code",
   "execution_count": 22,
   "id": "843e9b0d",
   "metadata": {},
   "outputs": [
    {
     "data": {
      "text/html": [
       "<div>\n",
       "<style scoped>\n",
       "    .dataframe tbody tr th:only-of-type {\n",
       "        vertical-align: middle;\n",
       "    }\n",
       "\n",
       "    .dataframe tbody tr th {\n",
       "        vertical-align: top;\n",
       "    }\n",
       "\n",
       "    .dataframe thead th {\n",
       "        text-align: right;\n",
       "    }\n",
       "</style>\n",
       "<table border=\"1\" class=\"dataframe\">\n",
       "  <thead>\n",
       "    <tr style=\"text-align: right;\">\n",
       "      <th></th>\n",
       "      <th>Sector_ID</th>\n",
       "      <th>Latitude</th>\n",
       "      <th>Longitude</th>\n",
       "      <th>Azimuth</th>\n",
       "      <th>TA</th>\n",
       "      <th>Target</th>\n",
       "      <th>Popu_Type</th>\n",
       "      <th>Datetime</th>\n",
       "      <th>Province</th>\n",
       "      <th>Vendor</th>\n",
       "      <th>...</th>\n",
       "      <th>Average_Reported_CQI</th>\n",
       "      <th>DL_PRB_UTILIZATION</th>\n",
       "      <th>Sector_Bandwidth(MHz)</th>\n",
       "      <th>cell_availability_include_manual_blocking</th>\n",
       "      <th>ConnectedUser</th>\n",
       "      <th>PPM</th>\n",
       "      <th>UPM</th>\n",
       "      <th>Day</th>\n",
       "      <th>Hour</th>\n",
       "      <th>Label</th>\n",
       "    </tr>\n",
       "  </thead>\n",
       "  <tbody>\n",
       "    <tr>\n",
       "      <th>0</th>\n",
       "      <td>AG0001A</td>\n",
       "      <td>37.531260</td>\n",
       "      <td>45.031880</td>\n",
       "      <td>85</td>\n",
       "      <td>0.566389</td>\n",
       "      <td>1</td>\n",
       "      <td>Semi-Residential</td>\n",
       "      <td>2022-12-14 22:00:00</td>\n",
       "      <td>AG</td>\n",
       "      <td>Huawei</td>\n",
       "      <td>...</td>\n",
       "      <td>10.247</td>\n",
       "      <td>26.177</td>\n",
       "      <td>60.0</td>\n",
       "      <td>100.0</td>\n",
       "      <td>88.709</td>\n",
       "      <td>0.174850</td>\n",
       "      <td>1.478483</td>\n",
       "      <td>Wednesday</td>\n",
       "      <td>22.0</td>\n",
       "      <td>City Capacity</td>\n",
       "    </tr>\n",
       "    <tr>\n",
       "      <th>1</th>\n",
       "      <td>AG0001C</td>\n",
       "      <td>37.531260</td>\n",
       "      <td>45.031880</td>\n",
       "      <td>300</td>\n",
       "      <td>0.703661</td>\n",
       "      <td>1</td>\n",
       "      <td>Semi-Residential</td>\n",
       "      <td>2022-12-11 14:00:00</td>\n",
       "      <td>AG</td>\n",
       "      <td>Huawei</td>\n",
       "      <td>...</td>\n",
       "      <td>9.959</td>\n",
       "      <td>41.876</td>\n",
       "      <td>60.0</td>\n",
       "      <td>100.0</td>\n",
       "      <td>198.271</td>\n",
       "      <td>0.291833</td>\n",
       "      <td>3.304517</td>\n",
       "      <td>Sunday</td>\n",
       "      <td>14.0</td>\n",
       "      <td>City Capacity</td>\n",
       "    </tr>\n",
       "    <tr>\n",
       "      <th>2</th>\n",
       "      <td>AG0002C</td>\n",
       "      <td>37.554125</td>\n",
       "      <td>45.085994</td>\n",
       "      <td>334</td>\n",
       "      <td>0.440847</td>\n",
       "      <td>1</td>\n",
       "      <td>Semi-Residential</td>\n",
       "      <td>2022-12-14 14:00:00</td>\n",
       "      <td>AG</td>\n",
       "      <td>Huawei</td>\n",
       "      <td>...</td>\n",
       "      <td>9.940</td>\n",
       "      <td>24.401</td>\n",
       "      <td>70.0</td>\n",
       "      <td>100.0</td>\n",
       "      <td>125.551</td>\n",
       "      <td>0.135843</td>\n",
       "      <td>1.793586</td>\n",
       "      <td>Wednesday</td>\n",
       "      <td>14.0</td>\n",
       "      <td>City Capacity</td>\n",
       "    </tr>\n",
       "  </tbody>\n",
       "</table>\n",
       "<p>3 rows × 24 columns</p>\n",
       "</div>"
      ],
      "text/plain": [
       "  Sector_ID   Latitude  Longitude  Azimuth        TA  Target  \\\n",
       "0   AG0001A  37.531260  45.031880       85  0.566389       1   \n",
       "1   AG0001C  37.531260  45.031880      300  0.703661       1   \n",
       "2   AG0002C  37.554125  45.085994      334  0.440847       1   \n",
       "\n",
       "          Popu_Type            Datetime Province  Vendor  ...  \\\n",
       "0  Semi-Residential 2022-12-14 22:00:00       AG  Huawei  ...   \n",
       "1  Semi-Residential 2022-12-11 14:00:00       AG  Huawei  ...   \n",
       "2  Semi-Residential 2022-12-14 14:00:00       AG  Huawei  ...   \n",
       "\n",
       "   Average_Reported_CQI  DL_PRB_UTILIZATION  Sector_Bandwidth(MHz)  \\\n",
       "0                10.247              26.177                   60.0   \n",
       "1                 9.959              41.876                   60.0   \n",
       "2                 9.940              24.401                   70.0   \n",
       "\n",
       "   cell_availability_include_manual_blocking  ConnectedUser       PPM  \\\n",
       "0                                      100.0         88.709  0.174850   \n",
       "1                                      100.0        198.271  0.291833   \n",
       "2                                      100.0        125.551  0.135843   \n",
       "\n",
       "        UPM        Day  Hour          Label  \n",
       "0  1.478483  Wednesday  22.0  City Capacity  \n",
       "1  3.304517     Sunday  14.0  City Capacity  \n",
       "2  1.793586  Wednesday  14.0  City Capacity  \n",
       "\n",
       "[3 rows x 24 columns]"
      ]
     },
     "execution_count": 22,
     "metadata": {},
     "output_type": "execute_result"
    }
   ],
   "source": [
    "cells_df.head(3)"
   ]
  },
  {
   "cell_type": "code",
   "execution_count": 23,
   "id": "5caadd0b",
   "metadata": {},
   "outputs": [
    {
     "data": {
      "text/html": [
       "<div>\n",
       "<style scoped>\n",
       "    .dataframe tbody tr th:only-of-type {\n",
       "        vertical-align: middle;\n",
       "    }\n",
       "\n",
       "    .dataframe tbody tr th {\n",
       "        vertical-align: top;\n",
       "    }\n",
       "\n",
       "    .dataframe thead th {\n",
       "        text-align: right;\n",
       "    }\n",
       "</style>\n",
       "<table border=\"1\" class=\"dataframe\">\n",
       "  <thead>\n",
       "    <tr style=\"text-align: right;\">\n",
       "      <th></th>\n",
       "      <th>DL_Spectral_efficiency</th>\n",
       "      <th>PPM</th>\n",
       "      <th>UPM</th>\n",
       "      <th>Sector_Bandwidth(MHz)</th>\n",
       "    </tr>\n",
       "    <tr>\n",
       "      <th>Popu_Type</th>\n",
       "      <th></th>\n",
       "      <th></th>\n",
       "      <th></th>\n",
       "      <th></th>\n",
       "    </tr>\n",
       "  </thead>\n",
       "  <tbody>\n",
       "    <tr>\n",
       "      <th>Commercial</th>\n",
       "      <td>1.71</td>\n",
       "      <td>0.17</td>\n",
       "      <td>2.68</td>\n",
       "      <td>49.28</td>\n",
       "    </tr>\n",
       "    <tr>\n",
       "      <th>Residential</th>\n",
       "      <td>1.85</td>\n",
       "      <td>0.27</td>\n",
       "      <td>2.48</td>\n",
       "      <td>56.15</td>\n",
       "    </tr>\n",
       "    <tr>\n",
       "      <th>Semi-Commercial</th>\n",
       "      <td>1.80</td>\n",
       "      <td>0.18</td>\n",
       "      <td>2.10</td>\n",
       "      <td>48.88</td>\n",
       "    </tr>\n",
       "    <tr>\n",
       "      <th>Semi-Residential</th>\n",
       "      <td>1.88</td>\n",
       "      <td>0.27</td>\n",
       "      <td>2.41</td>\n",
       "      <td>51.22</td>\n",
       "    </tr>\n",
       "  </tbody>\n",
       "</table>\n",
       "</div>"
      ],
      "text/plain": [
       "                  DL_Spectral_efficiency   PPM   UPM  Sector_Bandwidth(MHz)\n",
       "Popu_Type                                                                  \n",
       "Commercial                          1.71  0.17  2.68                  49.28\n",
       "Residential                         1.85  0.27  2.48                  56.15\n",
       "Semi-Commercial                     1.80  0.18  2.10                  48.88\n",
       "Semi-Residential                    1.88  0.27  2.41                  51.22"
      ]
     },
     "execution_count": 23,
     "metadata": {},
     "output_type": "execute_result"
    }
   ],
   "source": [
    "cells_df[['Popu_Type', 'DL_Spectral_efficiency', 'PPM', 'UPM', 'Sector_Bandwidth(MHz)']].groupby(by=['Popu_Type']).mean().round(2)"
   ]
  },
  {
   "cell_type": "code",
   "execution_count": 24,
   "id": "33df2cb7",
   "metadata": {},
   "outputs": [
    {
     "data": {
      "text/html": [
       "<div>\n",
       "<style scoped>\n",
       "    .dataframe tbody tr th:only-of-type {\n",
       "        vertical-align: middle;\n",
       "    }\n",
       "\n",
       "    .dataframe tbody tr th {\n",
       "        vertical-align: top;\n",
       "    }\n",
       "\n",
       "    .dataframe thead th {\n",
       "        text-align: right;\n",
       "    }\n",
       "</style>\n",
       "<table border=\"1\" class=\"dataframe\">\n",
       "  <thead>\n",
       "    <tr style=\"text-align: right;\">\n",
       "      <th></th>\n",
       "      <th>DL_Spectral_efficiency</th>\n",
       "      <th>PPM</th>\n",
       "      <th>UPM</th>\n",
       "      <th>Sector_Bandwidth(MHz)</th>\n",
       "    </tr>\n",
       "    <tr>\n",
       "      <th>Label</th>\n",
       "      <th></th>\n",
       "      <th></th>\n",
       "      <th></th>\n",
       "      <th></th>\n",
       "    </tr>\n",
       "  </thead>\n",
       "  <tbody>\n",
       "    <tr>\n",
       "      <th>City Capacity</th>\n",
       "      <td>1.57</td>\n",
       "      <td>0.24</td>\n",
       "      <td>2.63</td>\n",
       "      <td>69.32</td>\n",
       "    </tr>\n",
       "    <tr>\n",
       "      <th>City Coverage</th>\n",
       "      <td>1.77</td>\n",
       "      <td>0.25</td>\n",
       "      <td>2.50</td>\n",
       "      <td>53.68</td>\n",
       "    </tr>\n",
       "    <tr>\n",
       "      <th>Rural</th>\n",
       "      <td>2.27</td>\n",
       "      <td>0.22</td>\n",
       "      <td>2.06</td>\n",
       "      <td>30.02</td>\n",
       "    </tr>\n",
       "    <tr>\n",
       "      <th>Umbrella</th>\n",
       "      <td>1.92</td>\n",
       "      <td>0.13</td>\n",
       "      <td>1.30</td>\n",
       "      <td>22.94</td>\n",
       "    </tr>\n",
       "  </tbody>\n",
       "</table>\n",
       "</div>"
      ],
      "text/plain": [
       "               DL_Spectral_efficiency   PPM   UPM  Sector_Bandwidth(MHz)\n",
       "Label                                                                   \n",
       "City Capacity                    1.57  0.24  2.63                  69.32\n",
       "City Coverage                    1.77  0.25  2.50                  53.68\n",
       "Rural                            2.27  0.22  2.06                  30.02\n",
       "Umbrella                         1.92  0.13  1.30                  22.94"
      ]
     },
     "execution_count": 24,
     "metadata": {},
     "output_type": "execute_result"
    }
   ],
   "source": [
    "cells_df[['Label', 'DL_Spectral_efficiency', 'PPM', 'UPM', 'Sector_Bandwidth(MHz)']].groupby(by=['Label']).mean().round(2)"
   ]
  },
  {
   "cell_type": "markdown",
   "id": "6ab4e4c8",
   "metadata": {},
   "source": [
    "#### Creating the feature list"
   ]
  },
  {
   "cell_type": "code",
   "execution_count": 25,
   "id": "9644986b",
   "metadata": {},
   "outputs": [
    {
     "data": {
      "text/plain": [
       "['DL_Spectral_efficiency', 'Sector_Bandwidth(MHz)', 'PPM', 'UPM', 'Hour']"
      ]
     },
     "execution_count": 25,
     "metadata": {},
     "output_type": "execute_result"
    }
   ],
   "source": [
    "# making a feature list\n",
    "features = [\n",
    "    f for f in cells_df.columns if f not in ('index', 'Sector_ID', 'Latitude', 'Longitude', 'Azimuth', 'TA',\n",
    "                                       'Target', 'Datetime', 'Province', 'Vendor', 'Total_Payload_GB',\n",
    "                                       'Total_DL_Payload(GB)', 'UserThroughput',\n",
    "                                       'Average_Reported_CQI', 'DL_PRB_UTILIZATION',\n",
    "                                       'cell_availability_include_manual_blocking', 'ConnectedUser',\n",
    "                                       'Day', 'Label', 'Popu_Type')\n",
    "]\n",
    "\n",
    "features"
   ]
  },
  {
   "cell_type": "markdown",
   "id": "06e3f4c6",
   "metadata": {},
   "source": [
    "### Using Isolation Forest Algorithm for Anomaly Detection\n",
    "##### The Isolation Forest is an ensemble of “Isolation Trees” that “isolate” observations by recursive random partitioning, which can be represented by a tree structure. The number of splittings required to isolate a sample is lower for outliers and higher for inliers."
   ]
  },
  {
   "cell_type": "code",
   "execution_count": 26,
   "id": "014177f4",
   "metadata": {},
   "outputs": [
    {
     "data": {
      "text/html": [
       "<div>\n",
       "<style scoped>\n",
       "    .dataframe tbody tr th:only-of-type {\n",
       "        vertical-align: middle;\n",
       "    }\n",
       "\n",
       "    .dataframe tbody tr th {\n",
       "        vertical-align: top;\n",
       "    }\n",
       "\n",
       "    .dataframe thead th {\n",
       "        text-align: right;\n",
       "    }\n",
       "</style>\n",
       "<table border=\"1\" class=\"dataframe\">\n",
       "  <thead>\n",
       "    <tr style=\"text-align: right;\">\n",
       "      <th></th>\n",
       "      <th>PPM</th>\n",
       "    </tr>\n",
       "    <tr>\n",
       "      <th>Sector_Bandwidth(MHz)</th>\n",
       "      <th></th>\n",
       "    </tr>\n",
       "  </thead>\n",
       "  <tbody>\n",
       "    <tr>\n",
       "      <th>5.0</th>\n",
       "      <td>24</td>\n",
       "    </tr>\n",
       "    <tr>\n",
       "      <th>10.0</th>\n",
       "      <td>157</td>\n",
       "    </tr>\n",
       "    <tr>\n",
       "      <th>15.0</th>\n",
       "      <td>117</td>\n",
       "    </tr>\n",
       "    <tr>\n",
       "      <th>20.0</th>\n",
       "      <td>14095</td>\n",
       "    </tr>\n",
       "    <tr>\n",
       "      <th>25.0</th>\n",
       "      <td>7</td>\n",
       "    </tr>\n",
       "    <tr>\n",
       "      <th>30.0</th>\n",
       "      <td>2672</td>\n",
       "    </tr>\n",
       "    <tr>\n",
       "      <th>35.0</th>\n",
       "      <td>837</td>\n",
       "    </tr>\n",
       "    <tr>\n",
       "      <th>40.0</th>\n",
       "      <td>6114</td>\n",
       "    </tr>\n",
       "    <tr>\n",
       "      <th>45.0</th>\n",
       "      <td>8</td>\n",
       "    </tr>\n",
       "    <tr>\n",
       "      <th>50.0</th>\n",
       "      <td>1424</td>\n",
       "    </tr>\n",
       "    <tr>\n",
       "      <th>55.0</th>\n",
       "      <td>176</td>\n",
       "    </tr>\n",
       "    <tr>\n",
       "      <th>60.0</th>\n",
       "      <td>8297</td>\n",
       "    </tr>\n",
       "    <tr>\n",
       "      <th>65.0</th>\n",
       "      <td>45</td>\n",
       "    </tr>\n",
       "    <tr>\n",
       "      <th>70.0</th>\n",
       "      <td>2280</td>\n",
       "    </tr>\n",
       "    <tr>\n",
       "      <th>75.0</th>\n",
       "      <td>8060</td>\n",
       "    </tr>\n",
       "    <tr>\n",
       "      <th>80.0</th>\n",
       "      <td>5011</td>\n",
       "    </tr>\n",
       "    <tr>\n",
       "      <th>85.0</th>\n",
       "      <td>27</td>\n",
       "    </tr>\n",
       "    <tr>\n",
       "      <th>90.0</th>\n",
       "      <td>4769</td>\n",
       "    </tr>\n",
       "    <tr>\n",
       "      <th>95.0</th>\n",
       "      <td>90</td>\n",
       "    </tr>\n",
       "    <tr>\n",
       "      <th>100.0</th>\n",
       "      <td>4</td>\n",
       "    </tr>\n",
       "    <tr>\n",
       "      <th>115.0</th>\n",
       "      <td>7</td>\n",
       "    </tr>\n",
       "    <tr>\n",
       "      <th>120.0</th>\n",
       "      <td>3</td>\n",
       "    </tr>\n",
       "    <tr>\n",
       "      <th>Grand Total</th>\n",
       "      <td>54224</td>\n",
       "    </tr>\n",
       "  </tbody>\n",
       "</table>\n",
       "</div>"
      ],
      "text/plain": [
       "                         PPM\n",
       "Sector_Bandwidth(MHz)       \n",
       "5.0                       24\n",
       "10.0                     157\n",
       "15.0                     117\n",
       "20.0                   14095\n",
       "25.0                       7\n",
       "30.0                    2672\n",
       "35.0                     837\n",
       "40.0                    6114\n",
       "45.0                       8\n",
       "50.0                    1424\n",
       "55.0                     176\n",
       "60.0                    8297\n",
       "65.0                      45\n",
       "70.0                    2280\n",
       "75.0                    8060\n",
       "80.0                    5011\n",
       "85.0                      27\n",
       "90.0                    4769\n",
       "95.0                      90\n",
       "100.0                      4\n",
       "115.0                      7\n",
       "120.0                      3\n",
       "Grand Total            54224"
      ]
     },
     "execution_count": 26,
     "metadata": {},
     "output_type": "execute_result"
    }
   ],
   "source": [
    "# Count of samples per BW\n",
    "df_summary = cells_df[['Sector_Bandwidth(MHz)', 'PPM']].groupby(by=['Sector_Bandwidth(MHz)']).count()\n",
    "df_summary.loc['Grand Total'] = df_summary.sum()\n",
    "df_summary"
   ]
  },
  {
   "cell_type": "code",
   "execution_count": 27,
   "id": "00445b6e",
   "metadata": {},
   "outputs": [
    {
     "data": {
      "text/html": [
       "<div>\n",
       "<style scoped>\n",
       "    .dataframe tbody tr th:only-of-type {\n",
       "        vertical-align: middle;\n",
       "    }\n",
       "\n",
       "    .dataframe tbody tr th {\n",
       "        vertical-align: top;\n",
       "    }\n",
       "\n",
       "    .dataframe thead th {\n",
       "        text-align: right;\n",
       "    }\n",
       "</style>\n",
       "<table border=\"1\" class=\"dataframe\">\n",
       "  <thead>\n",
       "    <tr style=\"text-align: right;\">\n",
       "      <th></th>\n",
       "      <th>PPM</th>\n",
       "    </tr>\n",
       "    <tr>\n",
       "      <th>Hour</th>\n",
       "      <th></th>\n",
       "    </tr>\n",
       "  </thead>\n",
       "  <tbody>\n",
       "    <tr>\n",
       "      <th>0.0</th>\n",
       "      <td>871</td>\n",
       "    </tr>\n",
       "    <tr>\n",
       "      <th>1.0</th>\n",
       "      <td>28</td>\n",
       "    </tr>\n",
       "    <tr>\n",
       "      <th>2.0</th>\n",
       "      <td>9</td>\n",
       "    </tr>\n",
       "    <tr>\n",
       "      <th>3.0</th>\n",
       "      <td>4</td>\n",
       "    </tr>\n",
       "    <tr>\n",
       "      <th>4.0</th>\n",
       "      <td>3</td>\n",
       "    </tr>\n",
       "    <tr>\n",
       "      <th>5.0</th>\n",
       "      <td>2</td>\n",
       "    </tr>\n",
       "    <tr>\n",
       "      <th>6.0</th>\n",
       "      <td>22</td>\n",
       "    </tr>\n",
       "    <tr>\n",
       "      <th>7.0</th>\n",
       "      <td>46</td>\n",
       "    </tr>\n",
       "    <tr>\n",
       "      <th>8.0</th>\n",
       "      <td>134</td>\n",
       "    </tr>\n",
       "    <tr>\n",
       "      <th>9.0</th>\n",
       "      <td>387</td>\n",
       "    </tr>\n",
       "    <tr>\n",
       "      <th>10.0</th>\n",
       "      <td>1530</td>\n",
       "    </tr>\n",
       "    <tr>\n",
       "      <th>11.0</th>\n",
       "      <td>2421</td>\n",
       "    </tr>\n",
       "    <tr>\n",
       "      <th>12.0</th>\n",
       "      <td>2332</td>\n",
       "    </tr>\n",
       "    <tr>\n",
       "      <th>13.0</th>\n",
       "      <td>3283</td>\n",
       "    </tr>\n",
       "    <tr>\n",
       "      <th>14.0</th>\n",
       "      <td>2000</td>\n",
       "    </tr>\n",
       "    <tr>\n",
       "      <th>15.0</th>\n",
       "      <td>1389</td>\n",
       "    </tr>\n",
       "    <tr>\n",
       "      <th>16.0</th>\n",
       "      <td>1278</td>\n",
       "    </tr>\n",
       "    <tr>\n",
       "      <th>17.0</th>\n",
       "      <td>2128</td>\n",
       "    </tr>\n",
       "    <tr>\n",
       "      <th>18.0</th>\n",
       "      <td>3574</td>\n",
       "    </tr>\n",
       "    <tr>\n",
       "      <th>19.0</th>\n",
       "      <td>4196</td>\n",
       "    </tr>\n",
       "    <tr>\n",
       "      <th>20.0</th>\n",
       "      <td>4881</td>\n",
       "    </tr>\n",
       "    <tr>\n",
       "      <th>21.0</th>\n",
       "      <td>8481</td>\n",
       "    </tr>\n",
       "    <tr>\n",
       "      <th>22.0</th>\n",
       "      <td>9161</td>\n",
       "    </tr>\n",
       "    <tr>\n",
       "      <th>23.0</th>\n",
       "      <td>6064</td>\n",
       "    </tr>\n",
       "    <tr>\n",
       "      <th>Grand Total</th>\n",
       "      <td>54224</td>\n",
       "    </tr>\n",
       "  </tbody>\n",
       "</table>\n",
       "</div>"
      ],
      "text/plain": [
       "               PPM\n",
       "Hour              \n",
       "0.0            871\n",
       "1.0             28\n",
       "2.0              9\n",
       "3.0              4\n",
       "4.0              3\n",
       "5.0              2\n",
       "6.0             22\n",
       "7.0             46\n",
       "8.0            134\n",
       "9.0            387\n",
       "10.0          1530\n",
       "11.0          2421\n",
       "12.0          2332\n",
       "13.0          3283\n",
       "14.0          2000\n",
       "15.0          1389\n",
       "16.0          1278\n",
       "17.0          2128\n",
       "18.0          3574\n",
       "19.0          4196\n",
       "20.0          4881\n",
       "21.0          8481\n",
       "22.0          9161\n",
       "23.0          6064\n",
       "Grand Total  54224"
      ]
     },
     "execution_count": 27,
     "metadata": {},
     "output_type": "execute_result"
    }
   ],
   "source": [
    "# Count of samples per hour\n",
    "df_summary = cells_df[['Hour', 'PPM']].groupby(by=['Hour']).count()\n",
    "df_summary.loc['Grand Total'] = df_summary.sum()\n",
    "df_summary"
   ]
  },
  {
   "cell_type": "code",
   "execution_count": 28,
   "id": "d375594f",
   "metadata": {},
   "outputs": [
    {
     "data": {
      "text/html": [
       "<div>\n",
       "<style scoped>\n",
       "    .dataframe tbody tr th:only-of-type {\n",
       "        vertical-align: middle;\n",
       "    }\n",
       "\n",
       "    .dataframe tbody tr th {\n",
       "        vertical-align: top;\n",
       "    }\n",
       "\n",
       "    .dataframe thead th {\n",
       "        text-align: right;\n",
       "    }\n",
       "</style>\n",
       "<table border=\"1\" class=\"dataframe\">\n",
       "  <thead>\n",
       "    <tr style=\"text-align: right;\">\n",
       "      <th></th>\n",
       "      <th>Sector_ID</th>\n",
       "      <th>Latitude</th>\n",
       "      <th>Longitude</th>\n",
       "      <th>Azimuth</th>\n",
       "      <th>TA</th>\n",
       "      <th>Target</th>\n",
       "      <th>Popu_Type</th>\n",
       "      <th>Datetime</th>\n",
       "      <th>Province</th>\n",
       "      <th>Vendor</th>\n",
       "      <th>...</th>\n",
       "      <th>Average_Reported_CQI</th>\n",
       "      <th>DL_PRB_UTILIZATION</th>\n",
       "      <th>Sector_Bandwidth(MHz)</th>\n",
       "      <th>cell_availability_include_manual_blocking</th>\n",
       "      <th>ConnectedUser</th>\n",
       "      <th>PPM</th>\n",
       "      <th>UPM</th>\n",
       "      <th>Day</th>\n",
       "      <th>Hour</th>\n",
       "      <th>Label</th>\n",
       "    </tr>\n",
       "  </thead>\n",
       "  <tbody>\n",
       "    <tr>\n",
       "      <th>0</th>\n",
       "      <td>AG0001A</td>\n",
       "      <td>37.531260</td>\n",
       "      <td>45.031880</td>\n",
       "      <td>85</td>\n",
       "      <td>0.566389</td>\n",
       "      <td>1</td>\n",
       "      <td>Semi-Residential</td>\n",
       "      <td>2022-12-14 22:00:00</td>\n",
       "      <td>AG</td>\n",
       "      <td>Huawei</td>\n",
       "      <td>...</td>\n",
       "      <td>10.247</td>\n",
       "      <td>26.177</td>\n",
       "      <td>60.0</td>\n",
       "      <td>100.0</td>\n",
       "      <td>88.709</td>\n",
       "      <td>0.174850</td>\n",
       "      <td>1.478483</td>\n",
       "      <td>Wednesday</td>\n",
       "      <td>22.0</td>\n",
       "      <td>City Capacity</td>\n",
       "    </tr>\n",
       "    <tr>\n",
       "      <th>1</th>\n",
       "      <td>AG0001C</td>\n",
       "      <td>37.531260</td>\n",
       "      <td>45.031880</td>\n",
       "      <td>300</td>\n",
       "      <td>0.703661</td>\n",
       "      <td>1</td>\n",
       "      <td>Semi-Residential</td>\n",
       "      <td>2022-12-11 14:00:00</td>\n",
       "      <td>AG</td>\n",
       "      <td>Huawei</td>\n",
       "      <td>...</td>\n",
       "      <td>9.959</td>\n",
       "      <td>41.876</td>\n",
       "      <td>60.0</td>\n",
       "      <td>100.0</td>\n",
       "      <td>198.271</td>\n",
       "      <td>0.291833</td>\n",
       "      <td>3.304517</td>\n",
       "      <td>Sunday</td>\n",
       "      <td>14.0</td>\n",
       "      <td>City Capacity</td>\n",
       "    </tr>\n",
       "    <tr>\n",
       "      <th>2</th>\n",
       "      <td>AG0002C</td>\n",
       "      <td>37.554125</td>\n",
       "      <td>45.085994</td>\n",
       "      <td>334</td>\n",
       "      <td>0.440847</td>\n",
       "      <td>1</td>\n",
       "      <td>Semi-Residential</td>\n",
       "      <td>2022-12-14 14:00:00</td>\n",
       "      <td>AG</td>\n",
       "      <td>Huawei</td>\n",
       "      <td>...</td>\n",
       "      <td>9.940</td>\n",
       "      <td>24.401</td>\n",
       "      <td>70.0</td>\n",
       "      <td>100.0</td>\n",
       "      <td>125.551</td>\n",
       "      <td>0.135843</td>\n",
       "      <td>1.793586</td>\n",
       "      <td>Wednesday</td>\n",
       "      <td>14.0</td>\n",
       "      <td>City Capacity</td>\n",
       "    </tr>\n",
       "  </tbody>\n",
       "</table>\n",
       "<p>3 rows × 24 columns</p>\n",
       "</div>"
      ],
      "text/plain": [
       "  Sector_ID   Latitude  Longitude  Azimuth        TA  Target  \\\n",
       "0   AG0001A  37.531260  45.031880       85  0.566389       1   \n",
       "1   AG0001C  37.531260  45.031880      300  0.703661       1   \n",
       "2   AG0002C  37.554125  45.085994      334  0.440847       1   \n",
       "\n",
       "          Popu_Type            Datetime Province  Vendor  ...  \\\n",
       "0  Semi-Residential 2022-12-14 22:00:00       AG  Huawei  ...   \n",
       "1  Semi-Residential 2022-12-11 14:00:00       AG  Huawei  ...   \n",
       "2  Semi-Residential 2022-12-14 14:00:00       AG  Huawei  ...   \n",
       "\n",
       "   Average_Reported_CQI  DL_PRB_UTILIZATION  Sector_Bandwidth(MHz)  \\\n",
       "0                10.247              26.177                   60.0   \n",
       "1                 9.959              41.876                   60.0   \n",
       "2                 9.940              24.401                   70.0   \n",
       "\n",
       "   cell_availability_include_manual_blocking  ConnectedUser       PPM  \\\n",
       "0                                      100.0         88.709  0.174850   \n",
       "1                                      100.0        198.271  0.291833   \n",
       "2                                      100.0        125.551  0.135843   \n",
       "\n",
       "        UPM        Day  Hour          Label  \n",
       "0  1.478483  Wednesday  22.0  City Capacity  \n",
       "1  3.304517     Sunday  14.0  City Capacity  \n",
       "2  1.793586  Wednesday  14.0  City Capacity  \n",
       "\n",
       "[3 rows x 24 columns]"
      ]
     },
     "execution_count": 28,
     "metadata": {},
     "output_type": "execute_result"
    }
   ],
   "source": [
    "cells_df.head(3)"
   ]
  },
  {
   "cell_type": "code",
   "execution_count": 29,
   "id": "807f6311",
   "metadata": {
    "scrolled": true
   },
   "outputs": [],
   "source": [
    "X = cells_df[(cells_df['Label'] == 'City Capacity') & (cells_df['Popu_Type'] == 'Residential') & (cells_df['Sector_Bandwidth(MHz)'] == 75 ) & (cells_df['Hour'] == 23 )][features]\n",
    "y = X['DL_Spectral_efficiency']\n",
    "X.drop(columns=['Sector_Bandwidth(MHz)', 'Hour', 'DL_Spectral_efficiency'], inplace=True)"
   ]
  },
  {
   "cell_type": "code",
   "execution_count": 30,
   "id": "d3f10eaa",
   "metadata": {},
   "outputs": [
    {
     "data": {
      "text/plain": [
       "(958, 2)"
      ]
     },
     "execution_count": 30,
     "metadata": {},
     "output_type": "execute_result"
    }
   ],
   "source": [
    "X.shape"
   ]
  },
  {
   "cell_type": "code",
   "execution_count": 31,
   "id": "3baa82f0",
   "metadata": {},
   "outputs": [
    {
     "data": {
      "text/html": [
       "<div>\n",
       "<style scoped>\n",
       "    .dataframe tbody tr th:only-of-type {\n",
       "        vertical-align: middle;\n",
       "    }\n",
       "\n",
       "    .dataframe tbody tr th {\n",
       "        vertical-align: top;\n",
       "    }\n",
       "\n",
       "    .dataframe thead th {\n",
       "        text-align: right;\n",
       "    }\n",
       "</style>\n",
       "<table border=\"1\" class=\"dataframe\">\n",
       "  <thead>\n",
       "    <tr style=\"text-align: right;\">\n",
       "      <th></th>\n",
       "      <th>PPM</th>\n",
       "      <th>UPM</th>\n",
       "    </tr>\n",
       "  </thead>\n",
       "  <tbody>\n",
       "    <tr>\n",
       "      <th>30718</th>\n",
       "      <td>0.455733</td>\n",
       "      <td>4.95732</td>\n",
       "    </tr>\n",
       "  </tbody>\n",
       "</table>\n",
       "</div>"
      ],
      "text/plain": [
       "            PPM      UPM\n",
       "30718  0.455733  4.95732"
      ]
     },
     "execution_count": 31,
     "metadata": {},
     "output_type": "execute_result"
    }
   ],
   "source": [
    "X.head(1)"
   ]
  },
  {
   "cell_type": "code",
   "execution_count": 32,
   "id": "29345c2e",
   "metadata": {},
   "outputs": [
    {
     "name": "stdout",
     "output_type": "stream",
     "text": [
      "-2.307647749439513\n",
      "4.058971598177613\n"
     ]
    }
   ],
   "source": [
    "# Feature Scalling\n",
    "from sklearn import preprocessing\n",
    "\n",
    "Scalling = 'standard' # 'none', 'normal', 'standard'\n",
    "\n",
    "if Scalling == 'standard':\n",
    "    scalled_X = preprocessing.StandardScaler().fit_transform(X)\n",
    "    \n",
    "elif Scalling == 'normal':\n",
    "    scalled_X = preprocessing.MinMaxScaler().fit_transform(X)\n",
    "    \n",
    "elif Scalling == 'none':\n",
    "    scalled_X = X.to_numpy()\n",
    "\n",
    "print(scalled_X.min())\n",
    "print(scalled_X.max())"
   ]
  },
  {
   "cell_type": "code",
   "execution_count": 33,
   "id": "a556c4c7",
   "metadata": {
    "scrolled": false
   },
   "outputs": [
    {
     "data": {
      "text/html": [
       "<style>#sk-container-id-1 {color: black;background-color: white;}#sk-container-id-1 pre{padding: 0;}#sk-container-id-1 div.sk-toggleable {background-color: white;}#sk-container-id-1 label.sk-toggleable__label {cursor: pointer;display: block;width: 100%;margin-bottom: 0;padding: 0.3em;box-sizing: border-box;text-align: center;}#sk-container-id-1 label.sk-toggleable__label-arrow:before {content: \"▸\";float: left;margin-right: 0.25em;color: #696969;}#sk-container-id-1 label.sk-toggleable__label-arrow:hover:before {color: black;}#sk-container-id-1 div.sk-estimator:hover label.sk-toggleable__label-arrow:before {color: black;}#sk-container-id-1 div.sk-toggleable__content {max-height: 0;max-width: 0;overflow: hidden;text-align: left;background-color: #f0f8ff;}#sk-container-id-1 div.sk-toggleable__content pre {margin: 0.2em;color: black;border-radius: 0.25em;background-color: #f0f8ff;}#sk-container-id-1 input.sk-toggleable__control:checked~div.sk-toggleable__content {max-height: 200px;max-width: 100%;overflow: auto;}#sk-container-id-1 input.sk-toggleable__control:checked~label.sk-toggleable__label-arrow:before {content: \"▾\";}#sk-container-id-1 div.sk-estimator input.sk-toggleable__control:checked~label.sk-toggleable__label {background-color: #d4ebff;}#sk-container-id-1 div.sk-label input.sk-toggleable__control:checked~label.sk-toggleable__label {background-color: #d4ebff;}#sk-container-id-1 input.sk-hidden--visually {border: 0;clip: rect(1px 1px 1px 1px);clip: rect(1px, 1px, 1px, 1px);height: 1px;margin: -1px;overflow: hidden;padding: 0;position: absolute;width: 1px;}#sk-container-id-1 div.sk-estimator {font-family: monospace;background-color: #f0f8ff;border: 1px dotted black;border-radius: 0.25em;box-sizing: border-box;margin-bottom: 0.5em;}#sk-container-id-1 div.sk-estimator:hover {background-color: #d4ebff;}#sk-container-id-1 div.sk-parallel-item::after {content: \"\";width: 100%;border-bottom: 1px solid gray;flex-grow: 1;}#sk-container-id-1 div.sk-label:hover label.sk-toggleable__label {background-color: #d4ebff;}#sk-container-id-1 div.sk-serial::before {content: \"\";position: absolute;border-left: 1px solid gray;box-sizing: border-box;top: 0;bottom: 0;left: 50%;z-index: 0;}#sk-container-id-1 div.sk-serial {display: flex;flex-direction: column;align-items: center;background-color: white;padding-right: 0.2em;padding-left: 0.2em;position: relative;}#sk-container-id-1 div.sk-item {position: relative;z-index: 1;}#sk-container-id-1 div.sk-parallel {display: flex;align-items: stretch;justify-content: center;background-color: white;position: relative;}#sk-container-id-1 div.sk-item::before, #sk-container-id-1 div.sk-parallel-item::before {content: \"\";position: absolute;border-left: 1px solid gray;box-sizing: border-box;top: 0;bottom: 0;left: 50%;z-index: -1;}#sk-container-id-1 div.sk-parallel-item {display: flex;flex-direction: column;z-index: 1;position: relative;background-color: white;}#sk-container-id-1 div.sk-parallel-item:first-child::after {align-self: flex-end;width: 50%;}#sk-container-id-1 div.sk-parallel-item:last-child::after {align-self: flex-start;width: 50%;}#sk-container-id-1 div.sk-parallel-item:only-child::after {width: 0;}#sk-container-id-1 div.sk-dashed-wrapped {border: 1px dashed gray;margin: 0 0.4em 0.5em 0.4em;box-sizing: border-box;padding-bottom: 0.4em;background-color: white;}#sk-container-id-1 div.sk-label label {font-family: monospace;font-weight: bold;display: inline-block;line-height: 1.2em;}#sk-container-id-1 div.sk-label-container {text-align: center;}#sk-container-id-1 div.sk-container {/* jupyter's `normalize.less` sets `[hidden] { display: none; }` but bootstrap.min.css set `[hidden] { display: none !important; }` so we also need the `!important` here to be able to override the default hidden behavior on the sphinx rendered scikit-learn.org. See: https://github.com/scikit-learn/scikit-learn/issues/21755 */display: inline-block !important;position: relative;}#sk-container-id-1 div.sk-text-repr-fallback {display: none;}</style><div id=\"sk-container-id-1\" class=\"sk-top-container\"><div class=\"sk-text-repr-fallback\"><pre>IsolationForest(random_state=1)</pre><b>In a Jupyter environment, please rerun this cell to show the HTML representation or trust the notebook. <br />On GitHub, the HTML representation is unable to render, please try loading this page with nbviewer.org.</b></div><div class=\"sk-container\" hidden><div class=\"sk-item\"><div class=\"sk-estimator sk-toggleable\"><input class=\"sk-toggleable__control sk-hidden--visually\" id=\"sk-estimator-id-1\" type=\"checkbox\" checked><label for=\"sk-estimator-id-1\" class=\"sk-toggleable__label sk-toggleable__label-arrow\">IsolationForest</label><div class=\"sk-toggleable__content\"><pre>IsolationForest(random_state=1)</pre></div></div></div></div></div>"
      ],
      "text/plain": [
       "IsolationForest(random_state=1)"
      ]
     },
     "execution_count": 33,
     "metadata": {},
     "output_type": "execute_result"
    }
   ],
   "source": [
    "from sklearn.ensemble import IsolationForest\n",
    "\n",
    "clf = IsolationForest(random_state=1) # max_samples=100\n",
    "clf.fit(scalled_X)"
   ]
  },
  {
   "cell_type": "code",
   "execution_count": 34,
   "id": "728fef4a",
   "metadata": {
    "scrolled": false
   },
   "outputs": [
    {
     "data": {
      "image/png": "[encoded data removed]",
      "text/plain": [
       "<Figure size 1296x576 with 1 Axes>"
      ]
     },
     "metadata": {
      "needs_background": "light"
     },
     "output_type": "display_data"
    }
   ],
   "source": [
    "import matplotlib.pyplot as plt\n",
    "plt.rcParams[\"figure.figsize\"] = (18,8)\n",
    "\n",
    "scatter = plt.scatter(scalled_X[:, 1], scalled_X[:, 0], c=y,cmap='gist_rainbow', s=10)\n",
    "plt.title(\"PPM & UPM Distribution\")\n",
    "plt.xlabel(X.columns[1])\n",
    "plt.ylabel(X.columns[0])\n",
    "plt.show();"
   ]
  },
  {
   "cell_type": "markdown",
   "id": "938d1fd2",
   "metadata": {},
   "source": [
    "### Using Local Outlier Factor (LOF) Algorithm for Anomaly Detection\n",
    "##### The Local Outlier Factor (LOF) algorithm is an unsupervised anomaly detection method which computes the local density deviation of a given data point with respect to its neighbors. It considers as outliers the samples that have a substantially lower density than their neighbors."
   ]
  },
  {
   "cell_type": "code",
   "execution_count": 35,
   "id": "0a9fef5a",
   "metadata": {},
   "outputs": [],
   "source": [
    "X = cells_df[(cells_df['Label'] == 'City Capacity') & (cells_df['Popu_Type'] == 'Residential') & (cells_df['Sector_Bandwidth(MHz)'] == 75 ) & (cells_df['Hour'] == 23 )][features]\n",
    "output_df = cells_df[(cells_df['Label'] == 'City Capacity') & (cells_df['Popu_Type'] == 'Residential') & (cells_df['Sector_Bandwidth(MHz)'] == 75 ) & (cells_df['Hour'] == 23 )]\n",
    "\n",
    "y = X['DL_Spectral_efficiency']\n",
    "X.drop(columns=['Sector_Bandwidth(MHz)', 'Hour'], inplace=True)"
   ]
  },
  {
   "cell_type": "code",
   "execution_count": 36,
   "id": "fa17b211",
   "metadata": {},
   "outputs": [
    {
     "data": {
      "text/plain": [
       "(958, 3)"
      ]
     },
     "execution_count": 36,
     "metadata": {},
     "output_type": "execute_result"
    }
   ],
   "source": [
    "X.shape"
   ]
  },
  {
   "cell_type": "code",
   "execution_count": 37,
   "id": "fb60716c",
   "metadata": {},
   "outputs": [
    {
     "name": "stdout",
     "output_type": "stream",
     "text": [
      "-2.307647749439513\n",
      "4.058971598177613\n"
     ]
    }
   ],
   "source": [
    "# Feature Scalling\n",
    "from sklearn import preprocessing\n",
    "\n",
    "Scalling = 'standard' # 'none', 'normal', 'standard'\n",
    "\n",
    "if Scalling == 'standard':\n",
    "    scalled_X = preprocessing.StandardScaler().fit_transform(X)\n",
    "    \n",
    "elif Scalling == 'normal':\n",
    "    scalled_X = preprocessing.MinMaxScaler().fit_transform(X)\n",
    "    \n",
    "elif Scalling == 'none':\n",
    "    scalled_X = X.to_numpy()\n",
    "\n",
    "print(scalled_X.min())\n",
    "print(scalled_X.max())"
   ]
  },
  {
   "cell_type": "code",
   "execution_count": 38,
   "id": "907a853b",
   "metadata": {
    "scrolled": false
   },
   "outputs": [
    {
     "data": {
      "image/png": "[encoded data removed]",
      "text/plain": [
       "<Figure size 1296x576 with 1 Axes>"
      ]
     },
     "metadata": {
      "needs_background": "light"
     },
     "output_type": "display_data"
    }
   ],
   "source": [
    "i, j = 1, 2\n",
    "\n",
    "from sklearn.neighbors import LocalOutlierFactor\n",
    "\n",
    "ground_truth = np.ones(len(scalled_X), dtype=int)\n",
    "\n",
    "# fit the model for outlier detection (default)\n",
    "clf = LocalOutlierFactor(n_neighbors=20, contamination=0.1)\n",
    "\n",
    "# use fit_predict to compute the predicted labels of the training samples\n",
    "# (when LOF is used for outlier detection, the estimator has no predict,\n",
    "# decision_function and score_samples methods).\n",
    "y_pred = clf.fit_predict(scalled_X)\n",
    "n_errors = (y_pred != ground_truth).sum()\n",
    "X_scores = clf.negative_outlier_factor_\n",
    "\n",
    "plt.title(\"Local Outlier Factor (LOF)\")\n",
    "plt.scatter(scalled_X[:, j], scalled_X[:, i], c=y,cmap='gist_rainbow', s=5, label=\"Data points\")\n",
    "\n",
    "# plot circles with radius proportional to the outlier scores\n",
    "radius = (X_scores.max() - X_scores) / (X_scores.max() - X_scores.min())\n",
    "\n",
    "\n",
    "radius[radius<0.3] = 0\n",
    "\n",
    "plt.scatter(\n",
    "    scalled_X[:, j],\n",
    "    scalled_X[:, i],\n",
    "    s=1000 * radius,\n",
    "    edgecolors=\"r\",\n",
    "    facecolors=\"none\",\n",
    "    label=\"Outlier scores\",\n",
    ")\n",
    "plt.xlabel(X.columns[j])\n",
    "plt.ylabel(X.columns[i])\n",
    "legend = plt.legend(loc=\"upper left\")\n",
    "legend.legendHandles[0]._sizes = [10]\n",
    "legend.legendHandles[1]._sizes = [20]\n",
    "plt.show()"
   ]
  },
  {
   "cell_type": "code",
   "execution_count": 39,
   "id": "e536655d",
   "metadata": {},
   "outputs": [],
   "source": [
    "output_df['OS'] = radius"
   ]
  },
  {
   "cell_type": "code",
   "execution_count": 40,
   "id": "dba9478a",
   "metadata": {},
   "outputs": [],
   "source": [
    "output_df.to_csv('output.csv', index=False)"
   ]
  },
  {
   "cell_type": "markdown",
   "id": "a3e99f5d",
   "metadata": {},
   "source": [
    "### Using DBSCAN Algorithm for Anomaly Detection\n",
    "##### Density-based spatial clustering of applications with noise is a density-based clustering machine learning algorithm to cluster normal data and detect outliers in an unsupervised manner. It clusters data points based on continuous regions of high point density and determines the ideal number of clusters to be formed. With such a density-based approach, outliers remain without any cluster and are, thus, easily spotted. In contrast to k-means, not all points are assigned to a cluster, and we are not required to declare the number of clusters (k). However, the two key parameters in DBSCAN are minPts (to set the minimum number of data points required to make a cluster) and eps (allowed distance between two points to put them in the same cluster)."
   ]
  },
  {
   "cell_type": "code",
   "execution_count": 46,
   "id": "f7043d97",
   "metadata": {},
   "outputs": [
    {
     "name": "stdout",
     "output_type": "stream",
     "text": [
      "Estimated number of clusters: 1\n",
      "Estimated number of noise points: 11\n"
     ]
    }
   ],
   "source": [
    "from sklearn.cluster import DBSCAN\n",
    "from sklearn import metrics\n",
    "\n",
    "db = DBSCAN(eps=.7, min_samples=4).fit(scalled_X)\n",
    "labels = db.labels_\n",
    "\n",
    "# Number of clusters in labels, ignoring noise if present.\n",
    "n_clusters_ = len(set(labels)) - (1 if -1 in labels else 0)\n",
    "n_noise_ = list(labels).count(-1)\n",
    "\n",
    "print(\"Estimated number of clusters: %d\" % n_clusters_)\n",
    "print(\"Estimated number of noise points: %d\" % n_noise_)"
   ]
  },
  {
   "cell_type": "code",
   "execution_count": 47,
   "id": "561182df",
   "metadata": {},
   "outputs": [
    {
     "name": "stdout",
     "output_type": "stream",
     "text": [
      "Silhouette Coefficient: 0.456\n"
     ]
    }
   ],
   "source": [
    "print(f\"Silhouette Coefficient: {metrics.silhouette_score(X, labels):.3f}\")"
   ]
  },
  {
   "cell_type": "code",
   "execution_count": 57,
   "id": "f92f092c",
   "metadata": {},
   "outputs": [
    {
     "data": {
      "image/png": "[encoded data removed]",
      "text/plain": [
       "<Figure size 1296x576 with 1 Axes>"
      ]
     },
     "metadata": {
      "needs_background": "light"
     },
     "output_type": "display_data"
    }
   ],
   "source": [
    "\n",
    "unique_labels = set(labels)\n",
    "core_samples_mask = np.zeros_like(labels, dtype=bool)\n",
    "core_samples_mask[db.core_sample_indices_] = True\n",
    "\n",
    "colors = [plt.cm.Spectral(each) for each in np.linspace(0, 1, len(unique_labels))]\n",
    "for k, col in zip(unique_labels, colors):\n",
    "    if k == -1:\n",
    "        # Black used for noise.\n",
    "        col = [0, 0, 1, 1]\n",
    "\n",
    "    class_member_mask = labels == k\n",
    "\n",
    "    xy = scalled_X[class_member_mask & core_samples_mask]\n",
    "    plt.plot(\n",
    "        xy[:, i],\n",
    "        xy[:, j],\n",
    "        \"o\",\n",
    "        markerfacecolor=tuple(col),\n",
    "        markeredgecolor=\"k\",\n",
    "        markersize=14,\n",
    "    )\n",
    "\n",
    "    xy = scalled_X[class_member_mask & ~core_samples_mask]\n",
    "    plt.plot(\n",
    "        xy[:, i],\n",
    "        xy[:, j],\n",
    "        \"o\",\n",
    "        markerfacecolor=tuple(col),\n",
    "        markeredgecolor=\"k\",\n",
    "        markersize=6,\n",
    "    )\n",
    "\n",
    "plt.title(\"DBSCAN Culstering for Anomaly Detection\")\n",
    "plt.xlabel(X.columns[j])\n",
    "plt.ylabel(X.columns[i])\n",
    "plt.show()"
   ]
  },
  {
   "cell_type": "markdown",
   "id": "e294a228",
   "metadata": {},
   "source": [
    "### References\n",
    "##### How to do Anomaly Detection using Machine Learning in Python?\n",
    "##### https://www.projectpro.io/article/anomaly-detection-using-machine-learning-in-python-with-example/555\n",
    "\n",
    "##### Scikit Learn Novelty and Outlier Detection\n",
    "##### https://scikit-learn.org/"
   ]
  }
 ],
 "metadata": {
  "kernelspec": {
   "display_name": "Python 3",
   "language": "python",
   "name": "python3"
  },
  "language_info": {
   "codemirror_mode": {
    "name": "ipython",
    "version": 3
   },
   "file_extension": ".py",
   "mimetype": "text/x-python",
   "name": "python",
   "nbconvert_exporter": "python",
   "pygments_lexer": "ipython3",
   "version": "3.8.8"
  }
 },
 "nbformat": 4,
 "nbformat_minor": 5
}
